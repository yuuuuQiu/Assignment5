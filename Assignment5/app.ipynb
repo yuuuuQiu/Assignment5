{
 "cells": [
  {
   "cell_type": "code",
   "execution_count": null,
   "id": "9b9b72c7",
   "metadata": {},
   "outputs": [
    {
     "name": "stdout",
     "output_type": "stream",
     "text": [
      " * Serving Flask app \"__main__\" (lazy loading)\n",
      " * Environment: production\n",
      "\u001b[31m   WARNING: This is a development server. Do not use it in a production deployment.\u001b[0m\n",
      "\u001b[2m   Use a production WSGI server instead.\u001b[0m\n",
      " * Debug mode: off\n"
     ]
    },
    {
     "name": "stderr",
     "output_type": "stream",
     "text": [
      " * Running on http://localhost:9022/ (Press CTRL+C to quit)\n",
      "127.0.0.1 - - [18/Oct/2021 18:03:21] \"\u001b[33mGET /Users/qiuyu/Assignment5/static/images/demo/static/images/demo/bg-main.jpg HTTP/1.1\u001b[0m\" 404 -\n",
      "127.0.0.1 - - [18/Oct/2021 18:03:21] \"\u001b[37mGET / HTTP/1.1\u001b[0m\" 200 -\n"
     ]
    }
   ],
   "source": [
    "################################################################################################################\n",
    "\n",
    "# EXTERNAL MODULES TO BE USED\n",
    "\n",
    "################################################################################################################\n",
    "\n",
    "from flask import Flask, render_template, redirect, url_for\n",
    "import pandas as pd\n",
    "\n",
    "app = Flask(__name__)\n",
    "    \n",
    "################################################################################################################\n",
    "\n",
    "# WEB ROUTES FOR CONTROLLING ACCESS TO TEMPLATE VIEWS\n",
    "\n",
    "################################################################################################################\n",
    "\n",
    "@app.route(\"/\")\n",
    "def index():    \n",
    "    df = pd.read_csv(\"rock_info.csv\") \n",
    "    list = df.to_dict('records')    \n",
    "    return render_template('show主页.html', entries=list)\n",
    "\n",
    "@app.route(\"/rock_info\")\n",
    "def rock_info():\n",
    "    return render_template('rock_info.html')\n",
    "\n",
    "@app.route(\"/punk_info\")\n",
    "def punk_info():\n",
    "    #df = pd.read_csv(\"punk_info.csv\")\n",
    "    #punks = df.to_dict('records')\n",
    "    return render_template('punk_info.html')\n",
    "\n",
    "@app.route(\"/pop_info\")\n",
    "def pop_info():\n",
    "    #df = pd.read_csv(\"pop_info.csv\")\n",
    "    #pops = df.to_dict('records')\n",
    "    return render_template('pop_info.html')\n",
    "\n",
    "@app.route(\"/country_info\")\n",
    "def country():\n",
    "    #df = pd.read_csv(\"country_info.csv\")\n",
    "    #countrys = df.to_dict('records')\n",
    "    return render_template('country_info.html')\n",
    "\n",
    "@app.route(\"/electronic_info\")\n",
    "def electronic():\n",
    "    #df = pd.read_csv(\"electronic_info.csv\")\n",
    "    #electronics = df.to_dict('records')\n",
    "    return render_template('electronic_info.html')\n",
    "\n",
    "@app.route(\"/independent_info\")\n",
    "def independent():\n",
    "    #df = pd.read_csv(\"independent_info.csv\")\n",
    "    #independents = df.to_dict('records')\n",
    "    return render_template('independent_info.html')\n",
    "\n",
    "@app.route(\"/jazz_info\")\n",
    "def jazz():\n",
    "    #df = pd.read_csv(\"jazz_info.csv\")\n",
    "    #jazzs = df.to_dict('records')\n",
    "    return render_template('jazz_info.html')\n",
    "\n",
    "@app.route(\"/metal_info\")\n",
    "def metal():\n",
    "    #df = pd.read_csv(\"metal_info.csv\")\n",
    "    #metals = df.to_dict('records')\n",
    "    return render_template('metal_info.html')\n",
    "\n",
    "@app.route(\"/hippop_info\")\n",
    "def hippop():\n",
    "    #df = pd.read_csv(\"hippop_info.csv\")\n",
    "    #hippops = df.to_dict('records')\n",
    "    return render_template('hippop_info.html')\n",
    "\n",
    "################################################################################################################\n",
    "\n",
    "# ERROR HANDLERS\n",
    "\n",
    "################################################################################################################\n",
    "\n",
    "#@app.errorhandler(404)\n",
    "#def page_not_found(e):\n",
    "    #return render_template('404.html'), 404\n",
    "\n",
    "\n",
    "################################################################################################################\n",
    "\n",
    "# APPLICATION TEST RUN AT PORT 9022\n",
    "\n",
    "################################################################################################################\n",
    "\n",
    "if __name__ == '__main__':\n",
    "    app.run('localhost', 9022)"
   ]
  },
  {
   "cell_type": "code",
   "execution_count": null,
   "id": "ffae8400",
   "metadata": {},
   "outputs": [],
   "source": []
  },
  {
   "cell_type": "code",
   "execution_count": null,
   "id": "0a5368ea",
   "metadata": {},
   "outputs": [],
   "source": []
  },
  {
   "cell_type": "code",
   "execution_count": null,
   "id": "ae3388e1",
   "metadata": {},
   "outputs": [],
   "source": []
  },
  {
   "cell_type": "code",
   "execution_count": null,
   "id": "dd87113b",
   "metadata": {},
   "outputs": [],
   "source": []
  },
  {
   "cell_type": "code",
   "execution_count": null,
   "id": "442a777e",
   "metadata": {},
   "outputs": [],
   "source": []
  },
  {
   "cell_type": "code",
   "execution_count": null,
   "id": "6b0f0585",
   "metadata": {},
   "outputs": [],
   "source": []
  }
 ],
 "metadata": {
  "kernelspec": {
   "display_name": "Python 3",
   "language": "python",
   "name": "python3"
  },
  "language_info": {
   "codemirror_mode": {
    "name": "ipython",
    "version": 3
   },
   "file_extension": ".py",
   "mimetype": "text/x-python",
   "name": "python",
   "nbconvert_exporter": "python",
   "pygments_lexer": "ipython3",
   "version": "3.8.8"
  }
 },
 "nbformat": 4,
 "nbformat_minor": 5
}
